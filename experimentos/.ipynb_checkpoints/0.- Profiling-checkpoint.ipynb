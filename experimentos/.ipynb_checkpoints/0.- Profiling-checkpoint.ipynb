{
 "cells": [
  {
   "cell_type": "markdown",
   "id": "4cbcd12c",
   "metadata": {},
   "source": [
    "### 3.1 Librerías"
   ]
  },
  {
   "cell_type": "code",
   "execution_count": 1,
   "id": "19bb7b52-4acd-40ef-9126-11c9a2d74879",
   "metadata": {
    "tags": []
   },
   "outputs": [],
   "source": [
    "from os import chdir\n",
    "\n",
    "# posicionarse sobre el directorio raiz\n",
    "chdir(\"..\")"
   ]
  },
  {
   "cell_type": "code",
   "execution_count": 2,
   "id": "c223bb63-bc3f-4a88-9abd-ed96cda13a5f",
   "metadata": {
    "tags": []
   },
   "outputs": [],
   "source": [
    "import os\n",
    "\n",
    "os.environ[\"MODIN_ENGINE\"] = \"dask\"  # Modin will use Dask"
   ]
  },
  {
   "cell_type": "code",
   "execution_count": 164,
   "id": "2f170ada",
   "metadata": {
    "tags": []
   },
   "outputs": [],
   "source": [
    "# To connect with BigQuery\n",
    "from json import loads\n",
    "from json import dump\n",
    "from base64 import b64decode\n",
    "# To connect with fda\n",
    "from pickle import dumps\n",
    "from pickle import HIGHEST_PROTOCOL"
   ]
  },
  {
   "cell_type": "markdown",
   "id": "30343e19-2c4e-4710-8657-2e2800c4d40a",
   "metadata": {
    "tags": []
   },
   "source": [
    "\n",
    "<div class=\"alert alert-info\" role=\"alert\">\n",
    "Se deben ejecutar los siguientes comandos en la terminal:\n",
    "</div>\n",
    "\n",
    "\n",
    "### Desinstalación\n",
    "\n",
    "```bash\n",
    "sudo apt-get remove graphviz-dev -y \n",
    "sudo apt-get purge graphviz-dev -y \n",
    "pip uninstall pygraphviz visions[all] tqdm networkx -y \n",
    "poetry remove ydata-profiling[notebook]\n",
    "```\n",
    "\n",
    "### Instalación\n",
    "\n",
    "```bash\n",
    "sudo apt install graphviz-dev -y\n",
    "pip install pygraphviz visions[all] tqdm networkx\n",
    "poetry add ydata-profiling\n",
    "poetry add dask['dask']\n",
    "poetry add \"dask[distributed]\"\n",
    "poetry add modin\n",
    "```"
   ]
  },
  {
   "cell_type": "code",
   "execution_count": 4,
   "id": "4a3beba2-82dc-465a-a0bf-a047321e3f47",
   "metadata": {
    "tags": []
   },
   "outputs": [],
   "source": [
    "\n",
    "from modin.pandas import read_csv,set_option\n",
    "from modin.pandas import set_option\n",
    "from modin.pandas import DataFrame\n",
    "from ydata_profiling import ProfileReport\n",
    "\n",
    "from numpy import trunc\n",
    "from os import path\n",
    "\n",
    "set_option('display.width', 1000)\n",
    "set_option('display.max_rows', None)\n",
    "set_option('display.float_format', lambda x: '{:.2f}'.format(x))"
   ]
  },
  {
   "cell_type": "markdown",
   "id": "e917bd09",
   "metadata": {},
   "source": [
    "### 3.2 Funciones"
   ]
  },
  {
   "cell_type": "code",
   "execution_count": 5,
   "id": "98af4b4b",
   "metadata": {
    "tags": []
   },
   "outputs": [],
   "source": [
    "def truncate_float(x):\n",
    "    return trunc(x)  # Trunca a dos decimales sin redondear"
   ]
  },
  {
   "cell_type": "code",
   "execution_count": 6,
   "id": "ad2ca53c-c5fc-4a8a-8d80-b2adcd62b12d",
   "metadata": {
    "tags": []
   },
   "outputs": [],
   "source": [
    "prefix_path='local_artifacts/profiling'\n",
    "report_name='DataTrainV1.pp'\n",
    "full_path = path.join(prefix_path,report_name)"
   ]
  },
  {
   "cell_type": "markdown",
   "id": "370b1c31",
   "metadata": {},
   "source": [
    "### 3.3 Conexiones"
   ]
  },
  {
   "cell_type": "code",
   "execution_count": 1,
   "id": "acd69e01",
   "metadata": {
    "tags": []
   },
   "outputs": [],
   "source": [
    "#\n"
   ]
  },
  {
   "cell_type": "markdown",
   "id": "460a87c4",
   "metadata": {},
   "source": [
    "### 3.4 Lectura de datos"
   ]
  },
  {
   "cell_type": "code",
   "execution_count": 12,
   "id": "cff2c934-18d4-4074-8ee4-04fb671ea023",
   "metadata": {
    "tags": []
   },
   "outputs": [],
   "source": [
    "# df_types[df_types.data_type == 'BIGNUMERIC']"
   ]
  },
  {
   "cell_type": "code",
   "execution_count": 1,
   "id": "eab091cc-e123-453f-b850-04964658ac4f",
   "metadata": {
    "tags": []
   },
   "outputs": [],
   "source": [
    "columns_rv = ['','',''] "
   ]
  },
  {
   "cell_type": "code",
   "execution_count": 2,
   "id": "7baa87cf-c0b8-45e0-a03c-0290da5b07c4",
   "metadata": {
    "tags": []
   },
   "outputs": [
    {
     "ename": "NameError",
     "evalue": "name 'df' is not defined",
     "output_type": "error",
     "traceback": [
      "\u001b[0;31m---------------------------------------------------------------------------\u001b[0m",
      "\u001b[0;31mNameError\u001b[0m                                 Traceback (most recent call last)",
      "Cell \u001b[0;32mIn[2], line 1\u001b[0m\n\u001b[0;32m----> 1\u001b[0m \u001b[43mdf\u001b[49m\u001b[38;5;241m.\u001b[39mdrop(columns\u001b[38;5;241m=\u001b[39mcolumns_rv, inplace\u001b[38;5;241m=\u001b[39m\u001b[38;5;28;01mTrue\u001b[39;00m)\n",
      "\u001b[0;31mNameError\u001b[0m: name 'df' is not defined"
     ]
    }
   ],
   "source": [
    "df.drop(columns=columns_rv, inplace=True)"
   ]
  },
  {
   "cell_type": "code",
   "execution_count": 18,
   "id": "ebaa887a-107c-49ff-86f9-a178eca450e3",
   "metadata": {
    "tags": []
   },
   "outputs": [
    {
     "data": {
      "text/html": [
       "<div>\n",
       "<style scoped>\n",
       "    .dataframe tbody tr th:only-of-type {\n",
       "        vertical-align: middle;\n",
       "    }\n",
       "\n",
       "    .dataframe tbody tr th {\n",
       "        vertical-align: top;\n",
       "    }\n",
       "\n",
       "    .dataframe thead th {\n",
       "        text-align: right;\n",
       "    }\n",
       "</style>\n",
       "<table border=\"1\" class=\"dataframe\">\n",
       "  <thead>\n",
       "    <tr style=\"text-align: right;\">\n",
       "      <th></th>\n",
       "      <th>target</th>\n",
       "      <th>Q_CLAIM_OPENED_3</th>\n",
       "      <th>BPP_AMT_DOLL_3</th>\n",
       "      <th>BPP_INSTANT_RECOVERY_AMT_DOLL_3</th>\n",
       "      <th>Q_BPP_OPENED_3</th>\n",
       "      <th>AVG_BPP_AMT_DOLL_3</th>\n",
       "      <th>AVG_BPP_INSTANT_RECOVERY_AMT_DOLL_3</th>\n",
       "      <th>Q_CLAIM_OPENED_5</th>\n",
       "      <th>BPP_AMT_DOLL_5</th>\n",
       "      <th>BPP_INSTANT_RECOVERY_AMT_DOLL_5</th>\n",
       "      <th>...</th>\n",
       "      <th>q_encen_tc_6m</th>\n",
       "      <th>q_encen_tc_3m</th>\n",
       "      <th>meses_desde_ult_encen_tc</th>\n",
       "      <th>current_ccard_limit_amt</th>\n",
       "      <th>last_ccard_limit_amt_12m</th>\n",
       "      <th>upsell_ccard_rise_limit_ratio_12m</th>\n",
       "      <th>first_ccard_limit_amt_12m</th>\n",
       "      <th>upsells_ccard_rise_limit_ratio_from_first_12m</th>\n",
       "      <th>upsells_ccard_days_from_last_update_12m</th>\n",
       "      <th>upsells_ccard_days_from_first_update_12m</th>\n",
       "    </tr>\n",
       "  </thead>\n",
       "  <tbody>\n",
       "    <tr>\n",
       "      <th>0</th>\n",
       "      <td>0</td>\n",
       "      <td>&lt;NA&gt;</td>\n",
       "      <td>NaN</td>\n",
       "      <td>NaN</td>\n",
       "      <td>&lt;NA&gt;</td>\n",
       "      <td>NaN</td>\n",
       "      <td>NaN</td>\n",
       "      <td>&lt;NA&gt;</td>\n",
       "      <td>NaN</td>\n",
       "      <td>NaN</td>\n",
       "      <td>...</td>\n",
       "      <td>0</td>\n",
       "      <td>0</td>\n",
       "      <td>-999</td>\n",
       "      <td>NaN</td>\n",
       "      <td>NaN</td>\n",
       "      <td>NaN</td>\n",
       "      <td>NaN</td>\n",
       "      <td>NaN</td>\n",
       "      <td>&lt;NA&gt;</td>\n",
       "      <td>&lt;NA&gt;</td>\n",
       "    </tr>\n",
       "    <tr>\n",
       "      <th>1</th>\n",
       "      <td>0</td>\n",
       "      <td>1</td>\n",
       "      <td>0.00</td>\n",
       "      <td>0.00</td>\n",
       "      <td>0</td>\n",
       "      <td>0.00</td>\n",
       "      <td>0.00</td>\n",
       "      <td>3</td>\n",
       "      <td>11.00</td>\n",
       "      <td>0.00</td>\n",
       "      <td>...</td>\n",
       "      <td>0</td>\n",
       "      <td>0</td>\n",
       "      <td>-999</td>\n",
       "      <td>NaN</td>\n",
       "      <td>NaN</td>\n",
       "      <td>NaN</td>\n",
       "      <td>NaN</td>\n",
       "      <td>NaN</td>\n",
       "      <td>&lt;NA&gt;</td>\n",
       "      <td>&lt;NA&gt;</td>\n",
       "    </tr>\n",
       "    <tr>\n",
       "      <th>2</th>\n",
       "      <td>0</td>\n",
       "      <td>&lt;NA&gt;</td>\n",
       "      <td>NaN</td>\n",
       "      <td>NaN</td>\n",
       "      <td>&lt;NA&gt;</td>\n",
       "      <td>NaN</td>\n",
       "      <td>NaN</td>\n",
       "      <td>&lt;NA&gt;</td>\n",
       "      <td>NaN</td>\n",
       "      <td>NaN</td>\n",
       "      <td>...</td>\n",
       "      <td>0</td>\n",
       "      <td>0</td>\n",
       "      <td>-999</td>\n",
       "      <td>NaN</td>\n",
       "      <td>NaN</td>\n",
       "      <td>NaN</td>\n",
       "      <td>NaN</td>\n",
       "      <td>NaN</td>\n",
       "      <td>&lt;NA&gt;</td>\n",
       "      <td>&lt;NA&gt;</td>\n",
       "    </tr>\n",
       "    <tr>\n",
       "      <th>3</th>\n",
       "      <td>0</td>\n",
       "      <td>&lt;NA&gt;</td>\n",
       "      <td>NaN</td>\n",
       "      <td>NaN</td>\n",
       "      <td>&lt;NA&gt;</td>\n",
       "      <td>NaN</td>\n",
       "      <td>NaN</td>\n",
       "      <td>&lt;NA&gt;</td>\n",
       "      <td>NaN</td>\n",
       "      <td>NaN</td>\n",
       "      <td>...</td>\n",
       "      <td>0</td>\n",
       "      <td>0</td>\n",
       "      <td>-999</td>\n",
       "      <td>NaN</td>\n",
       "      <td>NaN</td>\n",
       "      <td>NaN</td>\n",
       "      <td>NaN</td>\n",
       "      <td>NaN</td>\n",
       "      <td>&lt;NA&gt;</td>\n",
       "      <td>&lt;NA&gt;</td>\n",
       "    </tr>\n",
       "    <tr>\n",
       "      <th>4</th>\n",
       "      <td>0</td>\n",
       "      <td>1</td>\n",
       "      <td>0.00</td>\n",
       "      <td>0.00</td>\n",
       "      <td>0</td>\n",
       "      <td>0.00</td>\n",
       "      <td>0.00</td>\n",
       "      <td>1</td>\n",
       "      <td>0.00</td>\n",
       "      <td>0.00</td>\n",
       "      <td>...</td>\n",
       "      <td>0</td>\n",
       "      <td>0</td>\n",
       "      <td>-999</td>\n",
       "      <td>NaN</td>\n",
       "      <td>NaN</td>\n",
       "      <td>NaN</td>\n",
       "      <td>NaN</td>\n",
       "      <td>NaN</td>\n",
       "      <td>&lt;NA&gt;</td>\n",
       "      <td>&lt;NA&gt;</td>\n",
       "    </tr>\n",
       "  </tbody>\n",
       "</table>\n",
       "<p>5 rows × 2787 columns</p>\n",
       "</div>"
      ],
      "text/plain": [
       "   target  Q_CLAIM_OPENED_3  BPP_AMT_DOLL_3  BPP_INSTANT_RECOVERY_AMT_DOLL_3  Q_BPP_OPENED_3  AVG_BPP_AMT_DOLL_3  AVG_BPP_INSTANT_RECOVERY_AMT_DOLL_3  Q_CLAIM_OPENED_5  BPP_AMT_DOLL_5  BPP_INSTANT_RECOVERY_AMT_DOLL_5  ...  q_encen_tc_6m  q_encen_tc_3m  meses_desde_ult_encen_tc  current_ccard_limit_amt  last_ccard_limit_amt_12m  upsell_ccard_rise_limit_ratio_12m  first_ccard_limit_amt_12m  upsells_ccard_rise_limit_ratio_from_first_12m  upsells_ccard_days_from_last_update_12m  upsells_ccard_days_from_first_update_12m\n",
       "0       0              <NA>             NaN                              NaN            <NA>                 NaN                                  NaN              <NA>             NaN                              NaN  ...              0              0                      -999                      NaN                       NaN                                NaN                        NaN                                            NaN                                     <NA>                                      <NA>\n",
       "1       0                 1            0.00                             0.00               0                0.00                                 0.00                 3           11.00                             0.00  ...              0              0                      -999                      NaN                       NaN                                NaN                        NaN                                            NaN                                     <NA>                                      <NA>\n",
       "2       0              <NA>             NaN                              NaN            <NA>                 NaN                                  NaN              <NA>             NaN                              NaN  ...              0              0                      -999                      NaN                       NaN                                NaN                        NaN                                            NaN                                     <NA>                                      <NA>\n",
       "3       0              <NA>             NaN                              NaN            <NA>                 NaN                                  NaN              <NA>             NaN                              NaN  ...              0              0                      -999                      NaN                       NaN                                NaN                        NaN                                            NaN                                     <NA>                                      <NA>\n",
       "4       0                 1            0.00                             0.00               0                0.00                                 0.00                 1            0.00                             0.00  ...              0              0                      -999                      NaN                       NaN                                NaN                        NaN                                            NaN                                     <NA>                                      <NA>\n",
       "\n",
       "[5 rows x 2787 columns]"
      ]
     },
     "execution_count": 18,
     "metadata": {},
     "output_type": "execute_result"
    }
   ],
   "source": [
    "df.head()"
   ]
  },
  {
   "cell_type": "code",
   "execution_count": 19,
   "id": "988a0cd9-466d-432d-9387-adb13f3be408",
   "metadata": {
    "tags": []
   },
   "outputs": [
    {
     "data": {
      "text/plain": [
       "(47667, 2787)"
      ]
     },
     "execution_count": 19,
     "metadata": {},
     "output_type": "execute_result"
    }
   ],
   "source": [
    "df.shape"
   ]
  },
  {
   "cell_type": "code",
   "execution_count": 20,
   "id": "361d8de1-9005-4ddb-8e61-df77e3ba6608",
   "metadata": {
    "tags": []
   },
   "outputs": [],
   "source": [
    "# porcentaje_nan = (df.isna().mean() * 100)\n",
    "\n",
    "# Ordenar los resultados por el porcentaje de NaN de forma descendente\n",
    "# sorted(zip(porcentaje_nan.index, porcentaje_nan), key=lambda x: round(x[1],2) , reverse=False)"
   ]
  },
  {
   "cell_type": "code",
   "execution_count": 21,
   "id": "048e17c2-5e21-4ea2-9eed-be66a6ba409b",
   "metadata": {
    "tags": []
   },
   "outputs": [],
   "source": [
    "def contar_columnas_con_nulos(df, umbral_porcentaje=40):\n",
    "    num_columnas_con_nulos = 0\n",
    "    nombres_columnas_con_nulos = []\n",
    "\n",
    "    # Iterar sobre las columnas del DataFrame\n",
    "    for columna in df.columns:\n",
    "        # Calcular el porcentaje de valores nulos en la columna actual\n",
    "        porcentaje_nulos = (df[columna].isnull().sum() / len(df)) * 100\n",
    "\n",
    "        # Verificar si el porcentaje supera el umbral\n",
    "        if porcentaje_nulos > umbral_porcentaje:\n",
    "            num_columnas_con_nulos += 1\n",
    "            nombres_columnas_con_nulos.append(columna)\n",
    "\n",
    "    return num_columnas_con_nulos, nombres_columnas_con_nulos\n"
   ]
  },
  {
   "cell_type": "code",
   "execution_count": 22,
   "id": "e75639eb-c01a-42ee-b8e1-fc0ea77f91ff",
   "metadata": {
    "tags": []
   },
   "outputs": [
    {
     "data": {
      "text/plain": [
       "1633"
      ]
     },
     "execution_count": 22,
     "metadata": {},
     "output_type": "execute_result"
    }
   ],
   "source": [
    "num , names = contar_columnas_con_nulos(df, umbral_porcentaje = 40)\n",
    "num"
   ]
  },
  {
   "cell_type": "code",
   "execution_count": 23,
   "id": "27182b32-9e6a-491a-9734-f1632e5019b7",
   "metadata": {
    "tags": []
   },
   "outputs": [
    {
     "data": {
      "text/plain": [
       "1347"
      ]
     },
     "execution_count": 23,
     "metadata": {},
     "output_type": "execute_result"
    }
   ],
   "source": [
    "num , names = contar_columnas_con_nulos(df, umbral_porcentaje = 80)\n",
    "num"
   ]
  },
  {
   "cell_type": "code",
   "execution_count": 24,
   "id": "4116e351-234f-4ebe-be2a-1e979d175914",
   "metadata": {
    "tags": []
   },
   "outputs": [
    {
     "data": {
      "text/plain": [
       "1188"
      ]
     },
     "execution_count": 24,
     "metadata": {},
     "output_type": "execute_result"
    }
   ],
   "source": [
    "num , names = contar_columnas_con_nulos(df, umbral_porcentaje = 99)\n",
    "num"
   ]
  },
  {
   "cell_type": "markdown",
   "id": "96e408a6",
   "metadata": {},
   "source": [
    "***"
   ]
  },
  {
   "cell_type": "markdown",
   "id": "03718ed0-9c50-469c-9bcb-7de467533211",
   "metadata": {
    "tags": []
   },
   "source": [
    "# Remover Nulos"
   ]
  },
  {
   "cell_type": "code",
   "execution_count": 27,
   "id": "f5b7209a-e419-4afe-8b35-9f38c6ba72f2",
   "metadata": {
    "tags": []
   },
   "outputs": [],
   "source": [
    "\n",
    "# Convertir las columnas seleccionadas a tipo categórico\n",
    "for col in columnas_flag:\n",
    "    df_dropped[col] = df_dropped[col].astype('category')"
   ]
  },
  {
   "cell_type": "code",
   "execution_count": 28,
   "id": "b76a8896-f58a-4639-b75d-37bdc77186a4",
   "metadata": {
    "tags": []
   },
   "outputs": [],
   "source": [
    "df_dropped['target'] = df_dropped.target.astype('category')"
   ]
  },
  {
   "cell_type": "markdown",
   "id": "5e890c21-e043-4173-a6cc-796b5df72103",
   "metadata": {
    "tags": []
   },
   "source": [
    "## Leer DataSet"
   ]
  },
  {
   "cell_type": "markdown",
   "id": "e22e5418-da95-4146-9d11-37f95695c3f0",
   "metadata": {
    "tags": []
   },
   "source": [
    "## Submuestreo Estratificado\n",
    "\n",
    "Dado que el conjunto de entrenamiento es de alta dimensionalidad y contiene más de 47 mil registros, puede ser necesario realizar un submuestreo estratificado para el perfilamiento de datos. Esto es especialmente relevante si necesitamos crear gráficos u otras operaciones que podrían ser costosas en términos de tiempo y recursos.\n"
   ]
  },
  {
   "cell_type": "code",
   "execution_count": 29,
   "id": "67296573-4b38-4143-bbc1-be79757e8c79",
   "metadata": {
    "tags": []
   },
   "outputs": [],
   "source": [
    "\"\"\"\n",
    "import pandas as pd\n",
    "from sklearn.model_selection import train_test_split\n",
    "\n",
    "\n",
    "# Definir las variables nominales y el target\n",
    "columnas_categoricas = df_dropped.select_dtypes(include='category').columns.tolist()\n",
    "target = 'target'\n",
    "\n",
    "# Submuestreo estratificado por las variables categóricas\n",
    "# train_stratified = df_dropped.groupby(variables_categoricas, group_keys=False).apply(lambda x: x.sample(min(len(x), 100)))\n",
    "\n",
    "columnas_numericas = df_dropped.select_dtypes(include=['float64', 'int64']).columns.tolist()\n",
    "\n",
    "\n",
    "# Función para realizar el submuestreo estratificado\n",
    "def submuestreo_estratificado(df, variables_categoricas, variables_numericas, n=100):\n",
    "    grupos = df.groupby(variables_categoricas)\n",
    "    submuestreo = []\n",
    "    for nombre_grupo, grupo in grupos:\n",
    "        submuestreo_grupo = grupo.sample(min(len(grupo), n), replace=False)\n",
    "        submuestreo.append(submuestreo_grupo)\n",
    "    return pd.concat(submuestreo)\n",
    "\n",
    "# Realizar el submuestreo estratificado\n",
    "train_stratified = submuestreo_estratificado(df_dropped, columnas_categoricas, columnas_numericas)\n",
    "\n",
    "train_stratified.head()\n",
    "\n",
    "\n",
    "df = train_stratified\n",
    "\n",
    "\"\"\"\n",
    "h = 0"
   ]
  },
  {
   "cell_type": "markdown",
   "id": "3f98c25d-b1ec-4919-9b34-6f8ea44df9cf",
   "metadata": {
    "tags": []
   },
   "source": [
    "# Profiling "
   ]
  },
  {
   "cell_type": "code",
   "execution_count": 193,
   "id": "d793301b-dc67-4e17-b699-f706d47ad40d",
   "metadata": {
    "tags": []
   },
   "outputs": [],
   "source": [
    "# Personalizar opciones\n",
    "\"\"\"\n",
    "profile = df.profile_report(\n",
    "        title=\"Report without correlations\",\n",
    "        correlations={\n",
    "            \"auto\": {\"calculate\": False},\n",
    "            \"pearson\": {\"calculate\": False},\n",
    "            \"spearman\": {\"calculate\": False},\n",
    "            \"kendall\": {\"calculate\": False},\n",
    "            \"phi_k\": {\"calculate\": False},\n",
    "            \"cramers\": {\"calculate\": False},\n",
    "            \"recoded\":{\"calculate\": False}\n",
    "        },\n",
    "        interactions={\"continuous\":  False},\n",
    "        sort=\"ascending\",\n",
    "        vars={\n",
    "        \"num\": {\"low_categorical_threshold\": 0},\n",
    "        \"cat\": {\n",
    "          \"length\": False,\n",
    "          \"characters\": False,\n",
    "          \"words\": False,\n",
    "          \"n_obs\": 5,\n",
    "        }\n",
    "        }\n",
    "    )\n",
    "    \"\"\"\n",
    "h = 0"
   ]
  },
  {
   "cell_type": "markdown",
   "id": "3053e86a-a861-4383-92d6-39e59fe82e5e",
   "metadata": {
    "tags": []
   },
   "source": [
    "### Ejecutar y validar"
   ]
  },
  {
   "cell_type": "code",
   "execution_count": 31,
   "id": "435c2fec-be43-4b4e-ab23-33be6885b0a8",
   "metadata": {
    "tags": []
   },
   "outputs": [],
   "source": [
    "profile = df_dropped.profile_report(title=\"Report without correlations\",minimal=True)"
   ]
  },
  {
   "cell_type": "code",
   "execution_count": 32,
   "id": "a2906ba8-539c-49ba-89d6-5573066f3817",
   "metadata": {
    "tags": []
   },
   "outputs": [
    {
     "data": {
      "application/vnd.jupyter.widget-view+json": {
       "model_id": "cb9e2efda4f54123ace896cec70619ce",
       "version_major": 2,
       "version_minor": 0
      },
      "text/plain": [
       "Summarize dataset:   0%|          | 0/5 [00:00<?, ?it/s]"
      ]
     },
     "metadata": {},
     "output_type": "display_data"
    },
    {
     "data": {
      "application/vnd.jupyter.widget-view+json": {
       "model_id": "8c1da2db4af6488ba451762fe43996df",
       "version_major": 2,
       "version_minor": 0
      },
      "text/plain": [
       "Render JSON:   0%|          | 0/1 [00:00<?, ?it/s]"
      ]
     },
     "metadata": {},
     "output_type": "display_data"
    }
   ],
   "source": [
    "response = profile.to_json()"
   ]
  },
  {
   "cell_type": "code",
   "execution_count": 33,
   "id": "c02628af-22af-4b07-be60-edf123426feb",
   "metadata": {
    "tags": []
   },
   "outputs": [],
   "source": [
    "response = loads(response)"
   ]
  },
  {
   "cell_type": "code",
   "execution_count": 34,
   "id": "edcb96b6-0dcb-45c4-b42c-2fea59ee6f11",
   "metadata": {
    "tags": []
   },
   "outputs": [
    {
     "data": {
      "text/plain": [
       "dict_keys(['analysis', 'time_index_analysis', 'table', 'variables', 'scatter', 'correlations', 'missing', 'alerts', 'package', 'sample', 'duplicates'])"
      ]
     },
     "execution_count": 34,
     "metadata": {},
     "output_type": "execute_result"
    }
   ],
   "source": [
    "# Keys en el reporte\n",
    "response.keys()"
   ]
  },
  {
   "cell_type": "markdown",
   "id": "86a54927-1779-417c-943d-4a05f921e293",
   "metadata": {},
   "source": [
    "#  Variables\n",
    "\n",
    "Obtener informción de la key  `Variables` del objeto profiling "
   ]
  },
  {
   "cell_type": "markdown",
   "id": "cd279787-a8bc-4b32-ba67-35a24c613700",
   "metadata": {
    "tags": []
   },
   "source": [
    "### Remover elementos inecesarios"
   ]
  },
  {
   "cell_type": "code",
   "execution_count": 35,
   "id": "fe489abc-94db-4542-8386-6d5ec9ddd515",
   "metadata": {
    "tags": []
   },
   "outputs": [],
   "source": [
    "# value_counts_index_sorted\n",
    "# histogram\n",
    "# value_counts_index_sorted\n",
    "for key in response['variables'].keys():\n",
    "    # response['variables'][key]['value_counts'] = len(response['variables'][key]['value_counts_index'].keys())\n",
    "    if 'histogram' in response['variables'][key]:\n",
    "        del response['variables'][key]['histogram']\n",
    "    if 'value_counts_without_nan' in response['variables'][key]:\n",
    "        del response['variables'][key]['value_counts_without_nan']\n",
    "    if 'value_counts_index_sorted' in response['variables'][key]:\n",
    "        response['variables'][key]['num_value_counts']= len(response['variables'][key]['value_counts_index_sorted'].keys())\n",
    "        del response['variables'][key]['value_counts_index_sorted']\n",
    "    if 'first_rows' in response['variables'][key]:\n",
    "        del response['variables'][key]['first_rows']"
   ]
  },
  {
   "cell_type": "code",
   "execution_count": 36,
   "id": "1e657cc9-b3de-490a-ab54-1fa8b70db701",
   "metadata": {
    "tags": []
   },
   "outputs": [],
   "source": [
    "# Convertir el diccionario a un formato adecuado para DataFrame\n",
    "formatted_data = {key: [value] for key, value in response['variables'].items()}"
   ]
  },
  {
   "cell_type": "code",
   "execution_count": 40,
   "id": "0ff45ff9-4d09-4a8d-846c-8f1fdb51bbea",
   "metadata": {
    "tags": []
   },
   "outputs": [],
   "source": [
    "from pandas import DataFrame,concat\n",
    "# Diccionario para almacenar DataFrames\n",
    "lista = []\n",
    "\n",
    "for key, value in formatted_data.items():\n",
    "    # Convertir el diccionario a DataFrame\n",
    "    df_ = DataFrame(value, index = [key])\n",
    "    # Agregar el DataFrame al diccionario\n",
    "    lista.append(df_)"
   ]
  },
  {
   "cell_type": "code",
   "execution_count": 41,
   "id": "5549ed44-93e8-459e-b181-6d92d25b1752",
   "metadata": {
    "tags": []
   },
   "outputs": [],
   "source": [
    "df_ = concat(lista)"
   ]
  },
  {
   "cell_type": "markdown",
   "id": "7aec70ad-74df-4643-adc6-cc53f9e6ba30",
   "metadata": {
    "tags": []
   },
   "source": [
    "# Alertas\n",
    "\n",
    "Extraer información de la key `Alertas` del objeti profiling"
   ]
  },
  {
   "cell_type": "code",
   "execution_count": 112,
   "id": "1043ea20-9bcc-493b-95a6-d50f42fab598",
   "metadata": {
    "tags": []
   },
   "outputs": [],
   "source": [
    "# Crear un DataFrame a partir del diccionario\n",
    "dict_ = {}\n",
    "# Diccionario para almacenar DataFrames\n",
    "lista = []\n",
    "    \n",
    "for item in response['alerts']:\n",
    "    p = item.split('] ')\n",
    "    idx = p[0].strip('[')\n",
    "    val = p[1]\n",
    "    if idx in dict_:\n",
    "        # Si el índice ya existe, agregar la alerta a la lista\n",
    "        dict_[idx].append(val)\n",
    "    else:\n",
    "        # Si el índice no existe, crear una nueva lista con la alerta\n",
    "        dict_[idx] = [val]\n",
    "        \n",
    "for key, value in dict_.items():\n",
    "    # Convertir el diccionario a DataFrame\n",
    "    df_tmp = DataFrame(str(value), index = [key],columns=['alert'])\n",
    "    # Agregar el DataFrame al diccionario\n",
    "    lista.append(df_tmp)"
   ]
  },
  {
   "cell_type": "code",
   "execution_count": 143,
   "id": "785375ba-fa70-4956-917f-e338164326db",
   "metadata": {
    "tags": []
   },
   "outputs": [],
   "source": [
    "df_alerts = concat(lista)\n",
    "\n",
    "# Concatenar los DataFrames por sus índices\n",
    "df_concatenated = df_.join(df_alerts, how='inner')\n",
    "\n",
    "# Ordenar el DataFrame por el nombre de las columnas\n",
    "df_sorted = df_concatenated.reindex(sorted(df_concatenated.columns), axis=1)"
   ]
  },
  {
   "cell_type": "code",
   "execution_count": 131,
   "id": "dbaf420c-86f0-4681-a9f7-e0e3633e9d94",
   "metadata": {
    "tags": []
   },
   "outputs": [],
   "source": [
    "from re import findall\n",
    "def truncate_floats_in_text(text_list):\n",
    "    \n",
    "    def truncate_floats(text):\n",
    "        pattern = r'\\b\\d+\\.\\d+\\b'\n",
    "        floats = findall(pattern, text)\n",
    "        truncated_floats = [round(float(f), 2) for f in floats]\n",
    "        for orig, trunc in zip(floats, truncated_floats):\n",
    "            text = text.replace(orig, str(trunc))\n",
    "            \n",
    "\n",
    "        return text\n",
    "    \n",
    "    return [truncate_floats(text) if isinstance(text, str) else text for text in text_list]\n",
    "\n",
    "# Suponiendo que df es tu DataFrame\n",
    "def split_list(text):\n",
    "    if notna(text):\n",
    "        return text.strip(\"[]\").split(\", \")\n",
    "    else:\n",
    "        return text"
   ]
  },
  {
   "cell_type": "code",
   "execution_count": 132,
   "id": "0cc990de-3c6e-450c-b63a-4a80bf7d195e",
   "metadata": {
    "tags": []
   },
   "outputs": [],
   "source": [
    "from pandas import set_option, notna\n",
    "set_option('display.width', 1000)\n",
    "set_option('display.max_rows', None)\n",
    "set_option('display.max_columns', None)\n",
    "set_option('display.max_colwidth', None)\n",
    "set_option('display.expand_frame_repr', True)\n",
    "\n",
    "df_sorted['alert']  = truncate_floats_in_text(df_sorted['alert'])"
   ]
  },
  {
   "cell_type": "markdown",
   "id": "5840438f-d7d5-4bda-9dfa-1dbc13d59975",
   "metadata": {
    "tags": []
   },
   "source": [
    "# Perfil de los datos\n",
    "\n",
    "Dar prioridad a los que tiene alertas"
   ]
  },
  {
   "cell_type": "code",
   "execution_count": 133,
   "id": "11f6a58b-9191-4e2a-9499-0d6b0498a090",
   "metadata": {
    "tags": []
   },
   "outputs": [
    {
     "data": {
      "text/plain": [
       "{'title': 'Report without correlations',\n",
       " 'date_start': '2024-03-19 18:38:59.972773',\n",
       " 'date_end': '2024-03-19 18:39:21.692810'}"
      ]
     },
     "execution_count": 133,
     "metadata": {},
     "output_type": "execute_result"
    }
   ],
   "source": [
    "response['analysis']"
   ]
  },
  {
   "cell_type": "code",
   "execution_count": 134,
   "id": "e42296f9-a31e-4c58-b4f0-106b8ebda850",
   "metadata": {
    "tags": []
   },
   "outputs": [
    {
     "data": {
      "text/plain": [
       "{'n': 47667,\n",
       " 'n_var': 1154,\n",
       " 'memory_size': 452411971,\n",
       " 'record_size': 9491.0938594835,\n",
       " 'n_cells_missing': 3873776,\n",
       " 'n_vars_with_missing': 736,\n",
       " 'n_vars_all_missing': 0,\n",
       " 'p_cells_missing': 0.07042240872453571,\n",
       " 'types': {'Categorical': 24, 'Numeric': 1129, 'DateTime': 1}}"
      ]
     },
     "execution_count": 134,
     "metadata": {},
     "output_type": "execute_result"
    }
   ],
   "source": [
    "response['table']"
   ]
  },
  {
   "cell_type": "code",
   "execution_count": 135,
   "id": "f48384f0-9532-47c4-b355-c2f2c0ff9a85",
   "metadata": {
    "tags": []
   },
   "outputs": [],
   "source": [
    "df_sorted['alert'] = df_sorted['alert'].apply(split_list)"
   ]
  },
  {
   "cell_type": "code",
   "execution_count": 150,
   "id": "7abf5856-82c4-48ae-bc6a-7ce3285127cb",
   "metadata": {
    "tags": []
   },
   "outputs": [],
   "source": [
    "orden_columns = [\n",
    "'type',\n",
    " 'is_unique',\n",
    " 'alert',\n",
    " 'imbalance',\n",
    " 'count',\n",
    " 'skewness',\n",
    " 'n_missing',\n",
    " 'n_distinct',\n",
    " 'n_unique',\n",
    " 'num_value_counts',\n",
    " 'kurtosis',\n",
    " 'cv',\n",
    " 'hashable',\n",
    " 'iqr',\n",
    " 'mad',\n",
    " 'max',\n",
    " 'mean',\n",
    " 'memory_size',\n",
    " 'min',\n",
    " 'monotonic',\n",
    " 'monotonic_decrease',\n",
    " 'monotonic_decrease_strict',\n",
    " 'monotonic_increase',\n",
    " 'monotonic_increase_strict',\n",
    " 'n',\n",
    " 'n_infinite',\n",
    " 'n_negative',\n",
    " 'n_zeros',\n",
    " 'ordering',\n",
    " 'p_distinct',\n",
    " 'p_infinite',\n",
    " 'p_missing',\n",
    " 'p_negative',\n",
    " 'p_unique',\n",
    " 'p_zeros',\n",
    " 'range',\n",
    " 'std',\n",
    " 'sum',\n",
    " 'variance',\n",
    "'25%',\n",
    " '5%',\n",
    " '50%',\n",
    " '75%',\n",
    " '95%',]"
   ]
  },
  {
   "cell_type": "code",
   "execution_count": 152,
   "id": "34f9e3a7-5b51-43b9-8660-e9636360acda",
   "metadata": {
    "tags": []
   },
   "outputs": [
    {
     "data": {
      "text/html": [
       "<div>\n",
       "<style scoped>\n",
       "    .dataframe tbody tr th:only-of-type {\n",
       "        vertical-align: middle;\n",
       "    }\n",
       "\n",
       "    .dataframe tbody tr th {\n",
       "        vertical-align: top;\n",
       "    }\n",
       "\n",
       "    .dataframe thead th {\n",
       "        text-align: right;\n",
       "    }\n",
       "</style>\n",
       "<table border=\"1\" class=\"dataframe\">\n",
       "  <thead>\n",
       "    <tr style=\"text-align: right;\">\n",
       "      <th></th>\n",
       "      <th>type</th>\n",
       "      <th>is_unique</th>\n",
       "      <th>alert</th>\n",
       "      <th>imbalance</th>\n",
       "      <th>count</th>\n",
       "      <th>skewness</th>\n",
       "      <th>n_missing</th>\n",
       "      <th>n_distinct</th>\n",
       "      <th>n_unique</th>\n",
       "      <th>num_value_counts</th>\n",
       "      <th>kurtosis</th>\n",
       "      <th>cv</th>\n",
       "      <th>hashable</th>\n",
       "      <th>iqr</th>\n",
       "      <th>mad</th>\n",
       "      <th>max</th>\n",
       "      <th>mean</th>\n",
       "      <th>memory_size</th>\n",
       "      <th>min</th>\n",
       "      <th>monotonic</th>\n",
       "      <th>monotonic_decrease</th>\n",
       "      <th>monotonic_decrease_strict</th>\n",
       "      <th>monotonic_increase</th>\n",
       "      <th>monotonic_increase_strict</th>\n",
       "      <th>n</th>\n",
       "      <th>n_infinite</th>\n",
       "      <th>n_negative</th>\n",
       "      <th>n_zeros</th>\n",
       "      <th>ordering</th>\n",
       "      <th>p_distinct</th>\n",
       "      <th>p_infinite</th>\n",
       "      <th>p_missing</th>\n",
       "      <th>p_negative</th>\n",
       "      <th>p_unique</th>\n",
       "      <th>p_zeros</th>\n",
       "      <th>range</th>\n",
       "      <th>std</th>\n",
       "      <th>sum</th>\n",
       "      <th>variance</th>\n",
       "      <th>25%</th>\n",
       "      <th>5%</th>\n",
       "      <th>50%</th>\n",
       "      <th>75%</th>\n",
       "      <th>95%</th>\n",
       "    </tr>\n",
       "  </thead>\n",
       "  <tbody>\n",
       "    <tr>\n",
       "      <th>target</th>\n",
       "      <td>Categorical</td>\n",
       "      <td>False</td>\n",
       "      <td>['is highly imbalanced (0.8753030581972824)']</td>\n",
       "      <td>0.88</td>\n",
       "      <td>47667</td>\n",
       "      <td>NaN</td>\n",
       "      <td>0</td>\n",
       "      <td>2</td>\n",
       "      <td>0</td>\n",
       "      <td>2</td>\n",
       "      <td>NaN</td>\n",
       "      <td>NaN</td>\n",
       "      <td>True</td>\n",
       "      <td>NaN</td>\n",
       "      <td>NaN</td>\n",
       "      <td>NaN</td>\n",
       "      <td>NaN</td>\n",
       "      <td>47919</td>\n",
       "      <td>NaN</td>\n",
       "      <td>NaN</td>\n",
       "      <td>NaN</td>\n",
       "      <td>NaN</td>\n",
       "      <td>NaN</td>\n",
       "      <td>NaN</td>\n",
       "      <td>47667</td>\n",
       "      <td>NaN</td>\n",
       "      <td>NaN</td>\n",
       "      <td>NaN</td>\n",
       "      <td>True</td>\n",
       "      <td>0.00</td>\n",
       "      <td>NaN</td>\n",
       "      <td>0.00</td>\n",
       "      <td>NaN</td>\n",
       "      <td>0.00</td>\n",
       "      <td>NaN</td>\n",
       "      <td>NaN</td>\n",
       "      <td>NaN</td>\n",
       "      <td>NaN</td>\n",
       "      <td>NaN</td>\n",
       "      <td>NaN</td>\n",
       "      <td>NaN</td>\n",
       "      <td>NaN</td>\n",
       "      <td>NaN</td>\n",
       "      <td>NaN</td>\n",
       "    </tr>\n",
       "    <tr>\n",
       "      <th>Q_CLAIM_OPENED_15</th>\n",
       "      <td>Numeric</td>\n",
       "      <td>False</td>\n",
       "      <td>['17409 (36.5%) missing values']</td>\n",
       "      <td>NaN</td>\n",
       "      <td>30258</td>\n",
       "      <td>1.11</td>\n",
       "      <td>17409</td>\n",
       "      <td>16</td>\n",
       "      <td>0</td>\n",
       "      <td>16</td>\n",
       "      <td>0.25</td>\n",
       "      <td>0.83</td>\n",
       "      <td>True</td>\n",
       "      <td>5.00</td>\n",
       "      <td>2.00</td>\n",
       "      <td>16</td>\n",
       "      <td>5.08</td>\n",
       "      <td>429131</td>\n",
       "      <td>1</td>\n",
       "      <td>0.00</td>\n",
       "      <td>False</td>\n",
       "      <td>False</td>\n",
       "      <td>False</td>\n",
       "      <td>False</td>\n",
       "      <td>47667</td>\n",
       "      <td>0.00</td>\n",
       "      <td>0.00</td>\n",
       "      <td>0.00</td>\n",
       "      <td>True</td>\n",
       "      <td>0.00</td>\n",
       "      <td>0.00</td>\n",
       "      <td>0.37</td>\n",
       "      <td>0.00</td>\n",
       "      <td>0.00</td>\n",
       "      <td>0.00</td>\n",
       "      <td>15</td>\n",
       "      <td>4.20</td>\n",
       "      <td>153761.00</td>\n",
       "      <td>17.64</td>\n",
       "      <td>2.00</td>\n",
       "      <td>1.00</td>\n",
       "      <td>4.00</td>\n",
       "      <td>7.00</td>\n",
       "      <td>15.00</td>\n",
       "    </tr>\n",
       "    <tr>\n",
       "      <th>BPP_AMT_DOLL_15</th>\n",
       "      <td>Numeric</td>\n",
       "      <td>False</td>\n",
       "      <td>['17409 (36.5%) missing values', 'is highly skewed(γ1 = 47.74659281367469)', 'has 5014 (10.5%) zeros']</td>\n",
       "      <td>NaN</td>\n",
       "      <td>30258</td>\n",
       "      <td>47.75</td>\n",
       "      <td>17409</td>\n",
       "      <td>2157</td>\n",
       "      <td>899</td>\n",
       "      <td>2157</td>\n",
       "      <td>3018.21</td>\n",
       "      <td>6.28</td>\n",
       "      <td>True</td>\n",
       "      <td>211.00</td>\n",
       "      <td>80.00</td>\n",
       "      <td>146009.00</td>\n",
       "      <td>307.76</td>\n",
       "      <td>381464</td>\n",
       "      <td>0.00</td>\n",
       "      <td>0.00</td>\n",
       "      <td>False</td>\n",
       "      <td>False</td>\n",
       "      <td>False</td>\n",
       "      <td>False</td>\n",
       "      <td>47667</td>\n",
       "      <td>0.00</td>\n",
       "      <td>0.00</td>\n",
       "      <td>5014.00</td>\n",
       "      <td>True</td>\n",
       "      <td>0.07</td>\n",
       "      <td>0.00</td>\n",
       "      <td>0.37</td>\n",
       "      <td>0.00</td>\n",
       "      <td>0.03</td>\n",
       "      <td>0.11</td>\n",
       "      <td>146009.00</td>\n",
       "      <td>1931.81</td>\n",
       "      <td>9312211.00</td>\n",
       "      <td>3731893.72</td>\n",
       "      <td>22.00</td>\n",
       "      <td>0.00</td>\n",
       "      <td>80.00</td>\n",
       "      <td>233.00</td>\n",
       "      <td>1059.15</td>\n",
       "    </tr>\n",
       "    <tr>\n",
       "      <th>BPP_INSTANT_RECOVERY_AMT_DOLL_15</th>\n",
       "      <td>Numeric</td>\n",
       "      <td>False</td>\n",
       "      <td>['17409 (36.5%) missing values', 'is highly skewed(γ1 = 25.851491177148556)', 'has 27327 (57.3%) zeros']</td>\n",
       "      <td>NaN</td>\n",
       "      <td>30258</td>\n",
       "      <td>25.85</td>\n",
       "      <td>17409</td>\n",
       "      <td>576</td>\n",
       "      <td>261</td>\n",
       "      <td>576</td>\n",
       "      <td>1196.37</td>\n",
       "      <td>7.24</td>\n",
       "      <td>True</td>\n",
       "      <td>0.00</td>\n",
       "      <td>0.00</td>\n",
       "      <td>7234.00</td>\n",
       "      <td>15.02</td>\n",
       "      <td>381464</td>\n",
       "      <td>0.00</td>\n",
       "      <td>0.00</td>\n",
       "      <td>False</td>\n",
       "      <td>False</td>\n",
       "      <td>False</td>\n",
       "      <td>False</td>\n",
       "      <td>47667</td>\n",
       "      <td>0.00</td>\n",
       "      <td>0.00</td>\n",
       "      <td>27327.00</td>\n",
       "      <td>True</td>\n",
       "      <td>0.02</td>\n",
       "      <td>0.00</td>\n",
       "      <td>0.37</td>\n",
       "      <td>0.00</td>\n",
       "      <td>0.01</td>\n",
       "      <td>0.57</td>\n",
       "      <td>7234.00</td>\n",
       "      <td>108.69</td>\n",
       "      <td>454402.00</td>\n",
       "      <td>11812.93</td>\n",
       "      <td>0.00</td>\n",
       "      <td>0.00</td>\n",
       "      <td>0.00</td>\n",
       "      <td>0.00</td>\n",
       "      <td>60.00</td>\n",
       "    </tr>\n",
       "    <tr>\n",
       "      <th>Q_BPP_OPENED_15</th>\n",
       "      <td>Numeric</td>\n",
       "      <td>False</td>\n",
       "      <td>['17409 (36.5%) missing values', 'has 5012 (10.5%) zeros']</td>\n",
       "      <td>NaN</td>\n",
       "      <td>30258</td>\n",
       "      <td>15.12</td>\n",
       "      <td>17409</td>\n",
       "      <td>289</td>\n",
       "      <td>110</td>\n",
       "      <td>289</td>\n",
       "      <td>311.55</td>\n",
       "      <td>3.43</td>\n",
       "      <td>True</td>\n",
       "      <td>7.00</td>\n",
       "      <td>3.00</td>\n",
       "      <td>1022</td>\n",
       "      <td>10.06</td>\n",
       "      <td>429131</td>\n",
       "      <td>0</td>\n",
       "      <td>0.00</td>\n",
       "      <td>False</td>\n",
       "      <td>False</td>\n",
       "      <td>False</td>\n",
       "      <td>False</td>\n",
       "      <td>47667</td>\n",
       "      <td>0.00</td>\n",
       "      <td>0.00</td>\n",
       "      <td>5012.00</td>\n",
       "      <td>True</td>\n",
       "      <td>0.01</td>\n",
       "      <td>0.00</td>\n",
       "      <td>0.37</td>\n",
       "      <td>0.00</td>\n",
       "      <td>0.00</td>\n",
       "      <td>0.11</td>\n",
       "      <td>1022</td>\n",
       "      <td>34.54</td>\n",
       "      <td>304533.00</td>\n",
       "      <td>1193.06</td>\n",
       "      <td>1.00</td>\n",
       "      <td>0.00</td>\n",
       "      <td>3.00</td>\n",
       "      <td>8.00</td>\n",
       "      <td>35.00</td>\n",
       "    </tr>\n",
       "  </tbody>\n",
       "</table>\n",
       "</div>"
      ],
      "text/plain": [
       "                                         type  is_unique                                                                                                     alert  imbalance  count  skewness  n_missing  n_distinct  n_unique  num_value_counts  kurtosis   cv  hashable    iqr   mad       max   mean  memory_size  min  monotonic monotonic_decrease monotonic_decrease_strict monotonic_increase monotonic_increase_strict      n  n_infinite  n_negative  n_zeros  ordering  p_distinct  p_infinite  p_missing  p_negative  p_unique  p_zeros     range     std        sum   variance   25%   5%   50%    75%     95%\n",
       "target                            Categorical      False                                                             ['is highly imbalanced (0.8753030581972824)']       0.88  47667       NaN          0           2         0                 2       NaN  NaN      True    NaN   NaN       NaN    NaN        47919  NaN        NaN                NaN                       NaN                NaN                       NaN  47667         NaN         NaN      NaN      True        0.00         NaN       0.00         NaN      0.00      NaN       NaN     NaN        NaN        NaN   NaN  NaN   NaN    NaN     NaN\n",
       "Q_CLAIM_OPENED_15                     Numeric      False                                                                          ['17409 (36.5%) missing values']        NaN  30258      1.11      17409          16         0                16      0.25 0.83      True   5.00  2.00        16   5.08       429131    1       0.00              False                     False              False                     False  47667        0.00        0.00     0.00      True        0.00        0.00       0.37        0.00      0.00     0.00        15    4.20  153761.00      17.64  2.00 1.00  4.00   7.00   15.00\n",
       "BPP_AMT_DOLL_15                       Numeric      False    ['17409 (36.5%) missing values', 'is highly skewed(γ1 = 47.74659281367469)', 'has 5014 (10.5%) zeros']        NaN  30258     47.75      17409        2157       899              2157   3018.21 6.28      True 211.00 80.00 146009.00 307.76       381464 0.00       0.00              False                     False              False                     False  47667        0.00        0.00  5014.00      True        0.07        0.00       0.37        0.00      0.03     0.11 146009.00 1931.81 9312211.00 3731893.72 22.00 0.00 80.00 233.00 1059.15\n",
       "BPP_INSTANT_RECOVERY_AMT_DOLL_15      Numeric      False  ['17409 (36.5%) missing values', 'is highly skewed(γ1 = 25.851491177148556)', 'has 27327 (57.3%) zeros']        NaN  30258     25.85      17409         576       261               576   1196.37 7.24      True   0.00  0.00   7234.00  15.02       381464 0.00       0.00              False                     False              False                     False  47667        0.00        0.00 27327.00      True        0.02        0.00       0.37        0.00      0.01     0.57   7234.00  108.69  454402.00   11812.93  0.00 0.00  0.00   0.00   60.00\n",
       "Q_BPP_OPENED_15                       Numeric      False                                                ['17409 (36.5%) missing values', 'has 5012 (10.5%) zeros']        NaN  30258     15.12      17409         289       110               289    311.55 3.43      True   7.00  3.00      1022  10.06       429131    0       0.00              False                     False              False                     False  47667        0.00        0.00  5012.00      True        0.01        0.00       0.37        0.00      0.00     0.11      1022   34.54  304533.00    1193.06  1.00 0.00  3.00   8.00   35.00"
      ]
     },
     "execution_count": 152,
     "metadata": {},
     "output_type": "execute_result"
    }
   ],
   "source": [
    "df_sorted[orden_columns].head(5)"
   ]
  },
  {
   "cell_type": "markdown",
   "id": "cfc101ed-75a8-4d86-b960-30a9417cf2a8",
   "metadata": {
    "tags": []
   },
   "source": [
    "# Validaciones"
   ]
  },
  {
   "cell_type": "markdown",
   "id": "d2da3c59-9740-40e6-9882-5297c15197c1",
   "metadata": {
    "tags": []
   },
   "source": [
    "A futuro"
   ]
  },
  {
   "cell_type": "code",
   "execution_count": null,
   "id": "2e13a11a-a80f-4874-ad02-4f7f707ea60d",
   "metadata": {
    "tags": []
   },
   "outputs": [],
   "source": [
    "import pandas as pd\n",
    "import great_expectations as ge\n",
    "from pathlib import Path\n",
    "from ydata_profiling.expectations_report import ExpectationsReport\n",
    "from ydata_profiling import ProfileReport\n",
    "\n",
    "\n",
    "def profiling(df_pandas,suite_name = 'test'):\n",
    "    \n",
    "    \n",
    "    # Crear un reporte de perfil sobre el conjunto de datos del Titanic\n",
    "    profile = ProfileReport(df_pandas, title=f\"{suite_name} Profiling Report\", minimal=True)\n",
    "\n",
    "    # Obtener el contexto de Great Expectations\n",
    "    context_ge = ge.get_context()\n",
    "    \n",
    "    # Agregar el conjunto de datos como un activo de DataFrame en la fuente de datos de pandas\n",
    "    datasource = context_ge.sources.add_pandas(name=\"pandas\")\n",
    "    data_asset = datasource.add_dataframe_asset(name=suite_name, dataframe=df_pandas)\n",
    "    \n",
    "    # Sobrescribir el método to_expectation_suite con el de ExpectationsReportV3\n",
    "    ExpectationsReport.to_expectation_suite = ExpectationsReportV3.to_expectation_suite\n",
    "\n",
    "    # Generar una suite de expectativas utilizando el reporte de perfil\n",
    "    suite = profile.to_expectation_suite(\n",
    "        suite_name=suite_name,\n",
    "        data_context=context_ge\n",
    "    )\n",
    "    return suite\n",
    "\n",
    "\n",
    "if __name__ == '__main__':\n",
    "    # Llamar a la función profiling para ejecutar el perfilado y la generación de expectativas\n",
    "    suite = profiling(df)\n"
   ]
  },
  {
   "cell_type": "code",
   "execution_count": null,
   "id": "024480f3-17f5-423b-aa4e-b6bdf3c709a2",
   "metadata": {
    "tags": []
   },
   "outputs": [],
   "source": [
    "from typing import Any, Optional\n",
    "import pandas as pd\n",
    "from visions import VisionsTypeset\n",
    "from ydata_profiling.config import Settings\n",
    "from ydata_profiling.model import BaseDescription, expectation_algorithms\n",
    "from ydata_profiling.model.handler import Handler\n",
    "from ydata_profiling.utils.dataframe import slugify\n",
    "from great_expectations.checkpoint import SimpleCheckpoint\n",
    "\n",
    "class ExpectationHandler(Handler):\n",
    "    \"\"\"Manejador de expectativas predeterminado.\"\"\"\n",
    "\n",
    "    def __init__(self, typeset: VisionsTypeset, *args, **kwargs):\n",
    "        # Mapeo de algoritmos de expectativas por tipo de variable\n",
    "        mapping = {\n",
    "            \"Unsupported\": [expectation_algorithms.generic_expectations],\n",
    "            \"Text\": [expectation_algorithms.categorical_expectations],\n",
    "            \"Categorical\": [expectation_algorithms.categorical_expectations],\n",
    "            \"Boolean\": [expectation_algorithms.categorical_expectations],\n",
    "            \"Numeric\": [expectation_algorithms.numeric_expectations],\n",
    "            \"URL\": [expectation_algorithms.url_expectations],\n",
    "            \"File\": [expectation_algorithms.file_expectations],\n",
    "            \"Path\": [expectation_algorithms.path_expectations],\n",
    "            \"DateTime\": [expectation_algorithms.datetime_expectations],\n",
    "            \"Image\": [expectation_algorithms.image_expectations],\n",
    "        }\n",
    "        super().__init__(mapping, typeset, *args, **kwargs)\n",
    "\n",
    "\n",
    "class ExpectationsReportV3:\n",
    "    \"\"\"Clase para generar una suite de expectativas utilizando Great Expectations.\"\"\"\n",
    "\n",
    "    config: Settings\n",
    "    df: Optional[pd.DataFrame] = None\n",
    "\n",
    "    @property\n",
    "    def typeset(self) -> Optional[VisionsTypeset]:\n",
    "        \"\"\"Devuelve el conjunto de tipos de visiones.\"\"\"\n",
    "        return None\n",
    "\n",
    "    def to_expectation_suite(\n",
    "        self,\n",
    "        suite_name: Optional[str] = None,\n",
    "        data_context: Optional[Any] = None,\n",
    "        save_suite: bool = True,\n",
    "        run_validation: bool = True,\n",
    "        build_data_docs: bool = True,\n",
    "        handler: Optional[Handler] = None,\n",
    "    ) -> Any:\n",
    "        \"\"\"\n",
    "        Todos los parámetros predeterminan a True para facilitar el acceso a la funcionalidad completa de Great Expectations.\n",
    "        \n",
    "        Args:\n",
    "            suite_name: El nombre de su suite de expectativas.\n",
    "            data_context: Un contexto de datos especificado por el usuario.\n",
    "            save_suite: Booleano para determinar si guardar la suite en .json como parte del método.\n",
    "            run_validation: Booleano para determinar si ejecutar la validación como parte del método.\n",
    "            build_data_docs: Booleano para determinar si generar documentación de datos, guardar el archivo .html y abrir\n",
    "                             la documentación de datos en su navegador.\n",
    "            handler: El manejador a usar para construir la expectativa.\n",
    "\n",
    "        Returns:\n",
    "            Una ExpectationSuite.\n",
    "        \"\"\"\n",
    "        try:\n",
    "            import great_expectations as ge\n",
    "        except ImportError as ex:\n",
    "            raise ImportError(\n",
    "                \"Por favor, instale great expectations antes de usar la funcionalidad de expectativas.\"\n",
    "            ) from ex\n",
    "\n",
    "        # Usa el título del informe si la suite está vacía\n",
    "        if suite_name is None:\n",
    "            suite_name = slugify(self.config.title)\n",
    "\n",
    "        # Usa el manejador predeterminado si no se especifica ninguno\n",
    "        if handler is None:\n",
    "            handler = ExpectationHandler(self.typeset)\n",
    "\n",
    "        # Obtiene el contexto de ge y crea la suite de expectativas\n",
    "        if not data_context:\n",
    "            data_context = ge.data_context.DataContext()\n",
    "\n",
    "        data_asset = data_context.get_datasource(\n",
    "            \"pandas\").get_asset(suite_name)\n",
    "\n",
    "        batch_request = data_asset.build_batch_request()\n",
    "\n",
    "        suite = data_context.add_or_update_expectation_suite(expectation_suite_name=suite_name)\n",
    "\n",
    "        # Instancia un dataset pandas en memoria\n",
    "        validator = data_context.get_validator(batch_request=batch_request, expectation_suite=suite)\n",
    "\n",
    "        # Obtiene el resumen del perfil\n",
    "        summary: BaseDescription = self.get_description()  # type: ignore\n",
    "\n",
    "        # Despacha las expectativas por tipo de variable semántica\n",
    "        for name, variable_summary in summary.variables.items():\n",
    "            handler.handle(variable_summary[\"type\"], name, variable_summary, validator)\n",
    "\n",
    "        # No actualizamos realmente el objeto suite en el batch en su lugar, así que necesitamos\n",
    "        # obtener la suite poblada del batch\n",
    "        suite = validator.get_expectation_suite(discard_failed_expectations=False)\n",
    "        data_context.update_expectation_suite(suite)\n",
    "        \n",
    "        validation_result_identifier = None\n",
    "        if run_validation:\n",
    "            checkpoint_config = {\n",
    "                \"class_name\": \"SimpleCheckpoint\",\n",
    "                \"validations\": [\n",
    "                    {\n",
    "                        \"batch_request\": batch_request,\n",
    "                        \"expectation_suite_name\": suite_name,\n",
    "                    }\n",
    "                ]\n",
    "            }\n",
    "            checkpoint = SimpleCheckpoint(\n",
    "                f\"_tmp_checkpoint_{suite_name}\",\n",
    "                data_context,\n",
    "                suite,\n",
    "                **checkpoint_config,\n",
    "\n",
    "            )\n",
    "            results = checkpoint.run(result_format=\"SUMMARY\", run_name=suite_name)\n",
    "            validation_result_identifier = results.list_validation_result_identifiers()[0]\n",
    "\n",
    "        # Escribe expectativas y abre la documentación de datos\n",
    "        if save_suite or build_data_docs:\n",
    "            data_context.update_expectation_suite(suite)\n",
    "\n",
    "        if build_data_docs:\n",
    "            data_context.build_data_docs()\n",
    "            data_context.open_data_docs(validation_result_identifier)\n",
    "\n",
    "        return validator.get_expectation_suite\n"
   ]
  },
  {
   "cell_type": "code",
   "execution_count": null,
   "id": "bfee506d-788f-4dab-ba41-1bf5afe7fb51",
   "metadata": {},
   "outputs": [],
   "source": []
  }
 ],
 "metadata": {
  "kernelspec": {
   "display_name": "Python 3 (ipykernel)",
   "language": "python",
   "name": "python3"
  },
  "language_info": {
   "codemirror_mode": {
    "name": "ipython",
    "version": 3
   },
   "file_extension": ".py",
   "mimetype": "text/x-python",
   "name": "python",
   "nbconvert_exporter": "python",
   "pygments_lexer": "ipython3",
   "version": "3.10.13"
  }
 },
 "nbformat": 4,
 "nbformat_minor": 5
}
