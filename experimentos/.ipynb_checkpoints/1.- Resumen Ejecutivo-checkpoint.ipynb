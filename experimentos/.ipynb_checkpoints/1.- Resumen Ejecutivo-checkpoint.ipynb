{
 "cells": [
  {
   "cell_type": "markdown",
   "metadata": {},
   "source": [
    "\n",
    "<div class=\"jumbotron\">\n",
    "  <h1><i class=\"fa fa-bar-chart\" aria-hidden=\"true\"></i> Resumen Ejecutivo</h1>\n",
    "  <p></p>\n",
    "</div>\n"
   ]
  },
  {
   "cell_type": "markdown",
   "metadata": {},
   "source": [
    "### Objetivo del documento\n",
    "El documento pretende mostrar los requerimientos, alcance del proyecto y orden en que se debe vizualizar los notebooks para una correcta conclusión.\n",
    "\n",
    "- Resumen ejecutivo\n",
    "- Integración y limpieza de datos\n",
    "- Exploración de datos & Ingeniería de características\n",
    "\n",
    "--------------------------------------------------------------------\n",
    "- Modelado\n",
    "- Prototipo\n",
    "- Pruebas unitarias\n",
    "- Pruebas de integración (pipeline completo ejecutandose)\n",
    "- Resultados y concluciones (slides)"
   ]
  },
  {
   "cell_type": "code",
   "execution_count": 1,
   "metadata": {},
   "outputs": [
    {
     "data": {
      "text/plain": [
       "Ellipsis"
      ]
     },
     "execution_count": 1,
     "metadata": {},
     "output_type": "execute_result"
    }
   ],
   "source": [
    "... "
   ]
  },
  {
   "cell_type": "code",
   "execution_count": null,
   "metadata": {},
   "outputs": [],
   "source": []
  }
 ],
 "metadata": {
  "kernelspec": {
   "display_name": "Python 3 (ipykernel)",
   "language": "python",
   "name": "python3"
  },
  "language_info": {
   "codemirror_mode": {
    "name": "ipython",
    "version": 3
   },
   "file_extension": ".py",
   "mimetype": "text/x-python",
   "name": "python",
   "nbconvert_exporter": "python",
   "pygments_lexer": "ipython3",
   "version": "3.10.13"
  }
 },
 "nbformat": 4,
 "nbformat_minor": 4
}
