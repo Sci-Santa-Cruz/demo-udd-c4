{
  "cells": [
    {
      "cell_type": "code",
      "execution_count": null,
      "id": "e1eb0264",
      "metadata": {
        "id": "e1eb0264",
        "outputId": "73372011-fedf-4a49-d259-608b3a1324f9"
      },
      "outputs": [
        {
          "name": "stdout",
          "output_type": "stream",
          "text": [
            "257\n",
            "(87, 0.3333333333333333)\n"
          ]
        }
      ],
      "source": [
        "#%%writefile ../../categorization/classifier.py\n",
        "\n",
        "from pickle import load as load_,HIGHEST_PROTOCOL,dump as dump_\n",
        "from mlflow import pyfunc\n",
        "\n",
        "from os.path import exists\n",
        "\n",
        "class ModelClassifier:\n",
        "    def __init__(self, name_model,threshold = 0.70,class_default = 87):\n",
        "        self.path_model = None\n",
        "        self.model = None\n",
        "        self.model_mlflow = None\n",
        "        self.path_model_mlflow = None\n",
        "        self.name_model = name_model\n",
        "        self.threshold = threshold\n",
        "        self.result = None\n",
        "        self.result_validate = None\n",
        "        # class code for 'without classification'\n",
        "        self.class_default = class_default\n",
        "\n",
        "\n",
        "\n",
        "    def set_model_path_mlflow(self, path: str = None) -> None:\n",
        "        self.path_model_mlflow = path\n",
        "\n",
        "    def load_model_pickle(self):\n",
        "\n",
        "        # Load data (deserialize)\n",
        "        if exists(self.path_model_mlflow + self.name_model):\n",
        "            with open(self.path_model_mlflow + self.name_model, \"rb\") as handle:\n",
        "                self.model_mlflow = load_(handle)\n",
        "        else:\n",
        "            raise FileNotFoundError(self.path_model_mlflow + self.name_model)\n",
        "\n",
        "\n",
        "    def load_model_mlflow(self) -> None:\n",
        "        if exists(self.path_model_mlflow + self.name_model):\n",
        "\n",
        "            # Load model as a PyFuncModel.\n",
        "            self.model_mlflow = pyfunc.load_model(self.path_model_mlflow)\n",
        "        else:\n",
        "            raise FileNotFoundError(self.path_model_mlflow)\n",
        "\n",
        "    def save_model(self):\n",
        "        with open(self.path_model, \"wb\") as handle:\n",
        "            dump_(self.model, handle, protocol=HIGHEST_PROTOCOL)\n",
        "\n",
        "    def predict_mlf(self, features):\n",
        "\n",
        "        return self.model_mlflow.predict(features)\n",
        "\n",
        "    def predict_proba(self, features):\n",
        "\n",
        "        return self.model_mlflow.predict_proba(features)\n",
        "\n",
        "    def get_predict_proba(self,features):\n",
        "        y_pred_prob = self.model_mlflow.predict_proba(features)\n",
        "        ix = y_pred_prob.argmax(1)\n",
        "        values = np.max(y_pred_prob, axis=1)\n",
        "        self.result = zip(list(ix),list(values))\n",
        "\n",
        "    def threshold_validate(self):\n",
        "        self.result_validate  = [(ix,proba) if proba > self.threshold  else (self.class_default,proba) for ix,proba in self.result ]\n",
        "\n",
        "\n",
        "if __name__ == \"__main__\":\n",
        "\n",
        "    import numpy as np\n",
        "    model_path_parent = '/Users/developer6/Documents/Klopp/backend/microservices/categorization/'\n",
        "    model_path_root= 'model/7e46a7efd916495dab0d2c8d1f5d8654/artifacts/golden_model/'\n",
        "\n",
        "    features = np.array([1,0,0,0,0,0,0,0,0,0,0,0,0,0,0,0,0,0,0,0,0,1,0,0,0,0,0,0,0,0,0,0,0,0,0,0,0,0,0,0,0,0,0,0,0,0,0,0,0,0,0,0,0,0,0,0,0,0,0,0,0,0,0,0,0,0,0,0,0,0,0,0,0,0,0,0,0,0,0,0,0,0,0,0,0,0,0,0,0,0,1,0,0,0,0,0,0,0,0,0,0,0,0,0,0,0,0,0,0,0,0,0,0,0,0,0,0,0,0,0,0,0,0,0,0,0,0,0,0,0,0,1,0,0,1,0,0,0,0,1,0,1,0,1,0,0,0,0,0,0,0,9,0,0,0,0,0,0,0,0,0,0,0,0,0,0,0,0,0,0,9,0,9,0,0,0,0,0,0,0,0,0,0,0,0,0,0,0,0,0,0,0,0,0,0,0,0,0,1,0,0,0,0,0,0,0,0,0,0,0,0,0,0,0,0,0,0,0,0,0,0,0,0,0,0,0,0,0,0,0,0,0,0,0,0,0,0,0,0,0,0,0,0,0,0,0,0,0,0,0,0,0,0,0,0,0,0])\n",
        "    features.reshape(1, -1)\n",
        "    print(len(features))\n",
        "\n",
        "    MC = ModelClassifier('model.pkl')\n",
        "    MC.set_model_path_mlflow(model_path_parent + model_path_root)\n",
        "    MC.load_model_pickle()\n",
        "    MC.get_predict_proba(features.reshape(1, -1))\n",
        "\n",
        "    MC.threshold_validate()\n",
        "    for item in MC.result_validate:\n",
        "        print(item)\n",
        "\n",
        ""
      ]
    },
    {
      "cell_type": "code",
      "execution_count": null,
      "id": "f50e1d84",
      "metadata": {
        "id": "f50e1d84"
      },
      "outputs": [],
      "source": []
    }
  ],
  "metadata": {
    "kernelspec": {
      "display_name": "Python 3 (ipykernel)",
      "language": "python",
      "name": "python3"
    },
    "language_info": {
      "codemirror_mode": {
        "name": "ipython",
        "version": 3
      },
      "file_extension": ".py",
      "mimetype": "text/x-python",
      "name": "python",
      "nbconvert_exporter": "python",
      "pygments_lexer": "ipython3",
      "version": "3.10.0"
    },
    "colab": {
      "provenance": []
    }
  },
  "nbformat": 4,
  "nbformat_minor": 5
}