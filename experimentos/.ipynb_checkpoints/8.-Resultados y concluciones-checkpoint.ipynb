{
 "cells": [
  {
   "cell_type": "markdown",
   "metadata": {},
   "source": [
    "<div class=\"jumbotron\">\n",
    "  <h1><i class=\"fa fa-bar-chart\" aria-hidden=\"true\"></i>Resultados y concluciones</h1>\n",
    "  <p></p>\n",
    "</div>"
   ]
  },
  {
   "cell_type": "markdown",
   "metadata": {},
   "source": [
    "## Conclusiones"
   ]
  },
  {
   "cell_type": "markdown",
   "metadata": {},
   "source": [
    "- Se logro la meta de prototipar una solución, es decir , un algoritmos de machine learning que logre predecir si lloverá con una exactitud arriba del 75 %.\n",
    "- Se experimento con dos algoritmos, de los cuales se seleccionó el de mayor rendimiento\n",
    "- El algoritmo selecccionado es una regresión logística y su rendimiento es de 85 % \n",
    "- La búsqueda de hiperparámetros indica que el desvalanceo de clases no es un problema para el algoritmo de RL\n",
    "- Se utilizó MLFlow para llevar un control de los diferentes resultados de la búsqueda y el versionamiento de los experimentos (al menos para la RL)\n",
    "- De forma rápida (por falta de tiempo para una mayor análisis)concluimos que características puede ser irrelevantes y cuales tiene mayor pesos (positivo y negativo) para la predicción\n",
    "- De acuerdo a los resultados arrojados por el algoritmo RL, nuestra solución es un modelo estable.\n",
    "\n",
    "\n"
   ]
  },
  {
   "cell_type": "markdown",
   "metadata": {},
   "source": [
    "## Discusión"
   ]
  },
  {
   "cell_type": "markdown",
   "metadata": {},
   "source": [
    "Debido a el sprig de dos día no fue posible:\n",
    "    \n",
    "- Análizar las variables de forma más puntual\n",
    "- Experimentar con mas transformaciones para las carácteristicas\n",
    "- Experimentar con técnicas más complejas de machine learning\n",
    "- Versionar el código y subirlo al github\n",
    "- Refactorizar el código\n",
    "- Finalizar la clase prototipo de python\n",
    "- Falto indagar en las variables con mayor poder de predicción para dar insights reales \n",
    "\n"
   ]
  },
  {
   "cell_type": "markdown",
   "metadata": {},
   "source": [
    "## Información extra\n"
   ]
  },
  {
   "cell_type": "markdown",
   "metadata": {},
   "source": [
    "El proyecto se realizo utilizando cultura de buenas prácticas:\n",
    "- Código documentado\n",
    "- Código limpio \n",
    "- Entorno aislado (vagrant) \n",
    "- Entornos virtuales ( Python environments) \n",
    "- Infraestrutura inmutable (ansible) \n",
    "- Entorno git \n",
    "- Versionamiento de pruebas (MLFlow)\n",
    "- Tablero canvas y calendarización de actividades"
   ]
  },
  {
   "cell_type": "markdown",
   "metadata": {},
   "source": [
    "Por falta de tiempo no fue posible incorporar:\n",
    "\n",
    "- versionamiento de modelos finales (MVC)\n",
    "- Refactorin\n",
    "- Pipeline"
   ]
  },
  {
   "cell_type": "code",
   "execution_count": null,
   "metadata": {},
   "outputs": [],
   "source": []
  }
 ],
 "metadata": {
  "kernelspec": {
   "display_name": "Python 3",
   "language": "python",
   "name": "python3"
  },
  "language_info": {
   "codemirror_mode": {
    "name": "ipython",
    "version": 3
   },
   "file_extension": ".py",
   "mimetype": "text/x-python",
   "name": "python",
   "nbconvert_exporter": "python",
   "pygments_lexer": "ipython3",
   "version": "3.7.4"
  }
 },
 "nbformat": 4,
 "nbformat_minor": 2
}
