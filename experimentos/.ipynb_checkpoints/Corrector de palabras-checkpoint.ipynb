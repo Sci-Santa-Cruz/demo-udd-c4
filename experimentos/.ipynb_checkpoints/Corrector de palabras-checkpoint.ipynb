{
 "cells": [
  {
   "cell_type": "code",
   "execution_count": 11,
   "metadata": {},
   "outputs": [
    {
     "name": "stdout",
     "output_type": "stream",
     "text": [
      "  Palabra  Frec-absoluta  Frec-normalizada\n",
      "0      de        9999518           6554555\n",
      "1      la        6277560           4114859\n",
      "2     que        4681839           3068885\n",
      "3      el        4569652           2995348\n",
      "4      en        4234281           2775516\n"
     ]
    }
   ],
   "source": [
    "\n",
    "import pandas as pd\n",
    "df_CREA_total = pd.read_csv(\"CREA_total.csv\", sep=',', encoding='iso-8859-1')\n",
    "print(df.head())\n",
    "\n",
    "#print(palabras)"
   ]
  },
  {
   "cell_type": "code",
   "execution_count": 2,
   "metadata": {},
   "outputs": [
    {
     "name": "stdout",
     "output_type": "stream",
     "text": [
      "152558294\n"
     ]
    }
   ],
   "source": [
    "print(df['Frec-absoluta'].sum())\n",
    "palabras = df.values"
   ]
  },
  {
   "cell_type": "code",
   "execution_count": null,
   "metadata": {},
   "outputs": [],
   "source": []
  },
  {
   "cell_type": "code",
   "execution_count": 4,
   "metadata": {},
   "outputs": [
    {
     "data": {
      "text/plain": [
       "Index(['Palabra', 'Frec-absoluta', 'Frec-normalizada'], dtype='object')"
      ]
     },
     "execution_count": 4,
     "metadata": {},
     "output_type": "execute_result"
    }
   ],
   "source": [
    "df.columns"
   ]
  },
  {
   "cell_type": "code",
   "execution_count": null,
   "metadata": {},
   "outputs": [],
   "source": []
  },
  {
   "cell_type": "code",
   "execution_count": 6,
   "metadata": {},
   "outputs": [],
   "source": []
  },
  {
   "cell_type": "code",
   "execution_count": 7,
   "metadata": {},
   "outputs": [],
   "source": [
    "N = 152558294.0 # suma de todas  las frecuencias absolutas\n",
    "PALABRAS = dict()\n",
    "\n",
    "for word,fa,fr in palabras:\n",
    "    \n",
    "    PALABRAS[word] = int(fa)\n",
    "\n",
    "def P(palabra, N=sum(PALABRAS.values())): \n",
    "    \"Probabilidad de `palabra`.\"\n",
    "    return PALABRAS[palabra]/N\n",
    "\n",
    "def correccion(palabra): \n",
    "    \"Corrección más probable de una palabra.\"\n",
    "    #print(candidatos(palabra))\n",
    "    return max(candidatos(palabra), key=P)\n",
    "\n",
    "def candidatos(palabra): \n",
    "    \"Genera posibles correcciones para una palabra.\"\n",
    "    return (conocidas([palabra]) or conocidas(edicion1(palabra)) or conocidas(edicion2(palabra)) or [palabra])\n",
    "\n",
    "def conocidas(palabras): \n",
    "    \"El subconjunto de `palabras` que aparecen en el diccionario de PALABRAS.\"\n",
    "    #print(set(w for w in palabras if w in PALABRAS))\n",
    "    return set(w for w in palabras if w in PALABRAS)\n",
    "\n",
    "def edicion1(palabra):\n",
    "    \"Todas las ediciones que están a una edición de `palabra`.\"\n",
    "    letras    = 'abcdefghijklmnopqrstuvwxyzáéíóúüñ'\n",
    "    divisiones     = [(palabra[:i], palabra[i:])    for i in range(len(palabra) + 1)]\n",
    "    omisiones    = [L + R[1:]               for L, R in divisiones if R]\n",
    "    transposiciones = [L + R[1] + R[0] + R[2:] for L, R in divisiones if len(R)>1]\n",
    "    remplazos   = [L + c + R[1:]           for L, R in divisiones if R for c in letras]\n",
    "    inserciones    = [L + c + R               for L, R in divisiones for c in letras]\n",
    "    return set(omisiones + transposiciones + remplazos + inserciones)\n",
    "\n",
    "def edicion2(palabra): \n",
    "    \"Todas las ediciones que están a dos ediciones de `palabra`.\"\n",
    "    return (e2 for e1 in edicion1(palabra) for e2 in edicion1(e1))"
   ]
  },
  {
   "cell_type": "code",
   "execution_count": 8,
   "metadata": {},
   "outputs": [
    {
     "data": {
      "text/plain": [
       "'ediciones'"
      ]
     },
     "execution_count": 8,
     "metadata": {},
     "output_type": "execute_result"
    }
   ],
   "source": [
    "correccion('edicioens')"
   ]
  },
  {
   "cell_type": "code",
   "execution_count": 10,
   "metadata": {},
   "outputs": [
    {
     "data": {
      "text/plain": [
       "'lunes'"
      ]
     },
     "execution_count": 10,
     "metadata": {},
     "output_type": "execute_result"
    }
   ],
   "source": [
    "correccion('lunesss')"
   ]
  },
  {
   "cell_type": "code",
   "execution_count": 15,
   "metadata": {},
   "outputs": [
    {
     "data": {
      "text/plain": [
       "'miercoles'"
      ]
     },
     "execution_count": 15,
     "metadata": {},
     "output_type": "execute_result"
    }
   ],
   "source": [
    "correccion('miercolers')"
   ]
  },
  {
   "cell_type": "code",
   "execution_count": 7,
   "metadata": {},
   "outputs": [
    {
     "data": {
      "text/plain": [
       "'jueves'"
      ]
     },
     "execution_count": 7,
     "metadata": {},
     "output_type": "execute_result"
    }
   ],
   "source": [
    "correccion('jueves')"
   ]
  },
  {
   "cell_type": "code",
   "execution_count": 8,
   "metadata": {},
   "outputs": [
    {
     "data": {
      "text/plain": [
       "'viernes'"
      ]
     },
     "execution_count": 8,
     "metadata": {},
     "output_type": "execute_result"
    }
   ],
   "source": [
    "correccion('vieernek')"
   ]
  },
  {
   "cell_type": "code",
   "execution_count": 9,
   "metadata": {},
   "outputs": [],
   "source": [
    "transcript = [{'transcript': 'cono Omar Castellanos por favor', 'confidence': 0.94835985}, {'transcript': 'con Omar Castellanos porfavor'}]"
   ]
  }
 ],
 "metadata": {
  "kernelspec": {
   "display_name": "Python 3",
   "language": "python",
   "name": "python3"
  },
  "language_info": {
   "codemirror_mode": {
    "name": "ipython",
    "version": 3
   },
   "file_extension": ".py",
   "mimetype": "text/x-python",
   "name": "python",
   "nbconvert_exporter": "python",
   "pygments_lexer": "ipython3",
   "version": "3.7.4"
  }
 },
 "nbformat": 4,
 "nbformat_minor": 2
}
